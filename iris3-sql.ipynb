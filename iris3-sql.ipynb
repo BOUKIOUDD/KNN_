{
 "cells": [
  {
   "cell_type": "code",
   "execution_count": null,
   "metadata": {},
   "outputs": [],
   "source": [
    "import psycopg2\n",
    "from sklearn import datasets\n",
    "try:\n",
    "\n",
    "    # Establish a connection to the database.\n",
    "    # Replace parameter values with database credentials.\n",
    "    conn = psycopg2.connect(database=\"postgres\", \n",
    "                            user=\"postgres\",\n",
    "                            host=\"localhost\",\n",
    "                            password=\"kaced14\",\n",
    "                            port=\"5432\") \n",
    "\n",
    "    # Create a cursor. The cursor allows you to execute database queries. \n",
    "    cur = conn.cursor()\n",
    "    \n",
    "    # Afficher la version de PostgreSQL \n",
    "    cur.execute(\"SELECT version();\")\n",
    "    version = cur.fetchone()\n",
    "    print(\"Version : \", version,\"\\n\")\n",
    "    \n",
    "    # Drop previous table of same name if one exists\n",
    "    cur.execute(\"DROP TABLE IF EXISTS Iris;\")\n",
    "    print(\"Finished dropping table (if existed)\")\n",
    "    \n",
    "    # Create a table. Initialise the table name, the column names and data type. \n",
    "    cur.execute(\"\"\"CREATE TABLE Iris (\n",
    "                        \n",
    "                        sepal_length       REAL,\n",
    "                        sepal_width        REAL,\n",
    "                        petal_length       REAL,\n",
    "                        petal_width        REAL )\"\"\")\n",
    "\n",
    "    \n",
    "    iris = datasets.load_iris()\n",
    "    \n",
    "    X= iris.data[:,:]\n",
    "    Y= iris.target\n",
    "    \n",
    "    c=0\n",
    "    for i in X:\n",
    "        print(i)\n",
    "        c=c+1\n",
    "        \n",
    "    print(c)\n",
    "    \n",
    "    cur.execute(\"INSERT INTO Iris (sepal_length, sepal_width,petal_length,petal_width) VALUES (%s, %s, %s, %s);\", (5.1, 3.5,1.4,0.2))\n",
    "    print(\"Inserted 1 row of data\")\n",
    "    \n",
    "    \n",
    "    #fermeture de la connexion à la base de données\n",
    "    conn.commit()\n",
    "    conn.close()\n",
    "\n",
    "    print(\"La connexion PostgreSQL est fermée\")\n",
    "except (Exception, psycopg2.Error) as error :\n",
    "    print (\"Erreur lors de la connexion à PostgreSQL\", error)"
   ]
  }
 ],
 "metadata": {
  "kernelspec": {
   "display_name": "Python 3",
   "language": "python",
   "name": "python3"
  },
  "language_info": {
   "codemirror_mode": {
    "name": "ipython",
    "version": 3
   },
   "file_extension": ".py",
   "mimetype": "text/x-python",
   "name": "python",
   "nbconvert_exporter": "python",
   "pygments_lexer": "ipython3",
   "version": "3.7.4"
  }
 },
 "nbformat": 4,
 "nbformat_minor": 2
}
