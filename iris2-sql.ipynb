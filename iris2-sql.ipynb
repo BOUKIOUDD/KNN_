{
 "cells": [
  {
   "cell_type": "code",
   "execution_count": null,
   "metadata": {},
   "outputs": [],
   "source": [
    "import psycopg2\n",
    "from sklearn import datasets\n",
    "try:\n",
    "    conn = psycopg2.connect(\n",
    "          user = \"postgres\",\n",
    "          password = \"kaced14\",\n",
    "          host = \"localhost\",\n",
    "          port = \"5432\",\n",
    "          database = \"postgres\"\n",
    "    )\n",
    "    cur = conn.cursor()\n",
    "    # Afficher la version de PostgreSQL \n",
    "    cur.execute(\"SELECT version();\")\n",
    "    version = cur.fetchone()\n",
    "    print(\"Version : \", version,\"\\n\")\n",
    "    \n",
    "    iris = datasets.load_iris()\n",
    "    \n",
    "    X= iris.data[:,:]\n",
    "    Y= iris.target\n",
    "    \n",
    "    # Create a table\n",
    "    cur.execute(\"CREATE TABLE Iris (sepal_length INTEGER,sepal_width INTEGER ,petal_length INTEGER, petal_width INTEGER);\")\n",
    "    print(\"Finished creating table\")\n",
    "\n",
    "    \n",
    "    c=0\n",
    "    for i in X:\n",
    "        print(i)\n",
    "        c=c+1\n",
    "        \n",
    "    \n",
    "    print(c)\n",
    "    \n",
    "        \n",
    "  \n",
    "    #fermeture de la connexion à la base de données\n",
    "    cur.close()\n",
    "    conn.close()\n",
    "    print(\"La connexion PostgreSQL est fermée\")\n",
    "except (Exception, psycopg2.Error) as error :\n",
    "    print (\"Erreur lors de la connexion à PostgreSQL\", error)"
   ]
  }
 ],
 "metadata": {
  "kernelspec": {
   "display_name": "Python 3",
   "language": "python",
   "name": "python3"
  },
  "language_info": {
   "codemirror_mode": {
    "name": "ipython",
    "version": 3
   },
   "file_extension": ".py",
   "mimetype": "text/x-python",
   "name": "python",
   "nbconvert_exporter": "python",
   "pygments_lexer": "ipython3",
   "version": "3.7.4"
  }
 },
 "nbformat": 4,
 "nbformat_minor": 2
}
