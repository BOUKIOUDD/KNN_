{
 "cells": [
  {
   "cell_type": "code",
   "execution_count": null,
   "metadata": {},
   "outputs": [],
   "source": [
    "import psycopg2\n",
    "\n",
    "# Establish a connection to the database.\n",
    "# Replace parameter values with database credentials.\n",
    "conn = psycopg2.connect(database=\"postgres\", \n",
    "                        user=\"postgres\",\n",
    "                        host=\"localhost\",\n",
    "                        password=\"kaced14\",\n",
    "                        port=\"5432\") \n",
    "\n",
    "# Create a cursor. The cursor allows you to execute database queries. \n",
    "cur = conn.cursor()\n",
    "\n",
    "# Create a table. Initialise the table name, the column names and data type. \n",
    "cur.execute(\"\"\"CREATE TABLE VEGT (\n",
    "                    id          INT ,\n",
    "                    fruit_name  TEXT,\n",
    "                    vegt_name  TEXT,\n",
    "                    color       TEXT,\n",
    "                    price       REAL )\"\"\")\n",
    "            \n",
    "conn.commit()\n",
    "conn.close()"
   ]
  }
 ],
 "metadata": {
  "kernelspec": {
   "display_name": "Python 3",
   "language": "python",
   "name": "python3"
  },
  "language_info": {
   "codemirror_mode": {
    "name": "ipython",
    "version": 3
   },
   "file_extension": ".py",
   "mimetype": "text/x-python",
   "name": "python",
   "nbconvert_exporter": "python",
   "pygments_lexer": "ipython3",
   "version": "3.7.4"
  }
 },
 "nbformat": 4,
 "nbformat_minor": 2
}
